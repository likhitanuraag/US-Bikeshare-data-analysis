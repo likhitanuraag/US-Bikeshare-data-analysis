{
 "cells": [
  {
   "cell_type": "markdown",
   "metadata": {},
   "source": [
    "# 2016 US Bike Share Activity Snapshot\n",
    "\n",
    "## Table of Contents\n",
    "- [Introduction](#intro)\n",
    "- [Posing Questions](#pose_questions)\n",
    "- [Data Collection and Wrangling](#wrangling)\n",
    "  - [Condensing the Trip Data](#condensing)\n",
    "- [Exploratory Data Analysis](#eda)\n",
    "  - [Statistics](#statistics)\n",
    "  - [Visualizations](#visualizations)\n",
    "- [Performing Your Own Analysis](#eda_continued)\n",
    "- [Conclusions](#conclusions)\n",
    "\n",
    "<a id='intro'></a>\n",
    "## Introduction\n",
    "\n",
    "> **Tip**: Quoted sections like this will provide helpful instructions on how to navigate and use a Jupyter notebook.\n",
    "\n",
    "Over the past decade, bicycle-sharing systems have been growing in number and popularity in cities across the world. Bicycle-sharing systems allow users to rent bicycles for short trips, typically 30 minutes or less. Thanks to the rise in information technologies, it is easy for a user of the system to access a dock within the system to unlock or return bicycles. These technologies also provide a wealth of data that can be used to explore how these bike-sharing systems are used.\n",
    "\n",
    "In this project, you will perform an exploratory analysis on data provided by [Motivate](https://www.motivateco.com/), a bike-share system provider for many major cities in the United States. You will compare the system usage between three large cities: New York City, Chicago, and Washington, DC. You will also see if there are any differences within each system for those users that are registered, regular users and those users that are short-term, casual users."
   ]
  },
  {
   "cell_type": "markdown",
   "metadata": {},
   "source": [
    "<a id='pose_questions'></a>\n",
    "## Posing Questions\n",
    "\n",
    "Before looking at the bike sharing data, you should start by asking questions you might want to understand about the bike share data. Consider, for example, if you were working for Motivate. What kinds of information would you want to know about in order to make smarter business decisions? If you were a user of the bike-share service, what factors might influence how you would want to use the service?\n",
    "\n",
    "**Question 1**: Write at least two questions related to bike sharing that you think could be answered by data.\n",
    "\n",
    "**Answer**: 1.Can we develop a business model in such a way that we can know the most popular route and least time?\n",
    "            2.Capacity of bikes in bikeshare?\n",
    "            \n",
    "\n",
    "> **Tip**: If you double click on this cell, you will see the text change so that all of the formatting is removed. This allows you to edit this block of text. This block of text is written using [Markdown](http://daringfireball.net/projects/markdown/syntax), which is a way to format text using headers, links, italics, and many other options using a plain-text syntax. You will also use Markdown later in the Nanodegree program. Use **Shift** + **Enter** or **Shift** + **Return** to run the cell and show its rendered form."
   ]
  },
  {
   "cell_type": "markdown",
   "metadata": {},
   "source": [
    "<a id='wrangling'></a>\n",
    "## Data Collection and Wrangling\n",
    "\n",
    "Now it's time to collect and explore our data. In this project, we will focus on the record of individual trips taken in 2016 from our selected cities: New York City, Chicago, and Washington, DC. Each of these cities has a page where we can freely download the trip data.:\n",
    "\n",
    "- New York City (Citi Bike): [Link](https://www.citibikenyc.com/system-data)\n",
    "- Chicago (Divvy): [Link](https://www.divvybikes.com/system-data)\n",
    "- Washington, DC (Capital Bikeshare): [Link](https://www.capitalbikeshare.com/system-data)\n",
    "\n",
    "If you visit these pages, you will notice that each city has a different way of delivering its data. Chicago updates with new data twice a year, Washington DC is quarterly, and New York City is monthly. **However, you do not need to download the data yourself.** The data has already been collected for you in the `/data/` folder of the project files. While the original data for 2016 is spread among multiple files for each city, the files in the `/data/` folder collect all of the trip data for the year into one file per city. Some data wrangling of inconsistencies in timestamp format within each city has already been performed for you. In addition, a random 2% sample of the original data is taken to make the exploration more manageable. \n",
    "\n",
    "**Question 2**: However, there is still a lot of data for us to investigate, so it's a good idea to start off by looking at one entry from each of the cities we're going to analyze. Run the first code cell below to load some packages and functions that you'll be using in your analysis. Then, complete the second code cell to print out the first trip recorded from each of the cities (the second line of each data file).\n",
    "\n",
    "> **Tip**: You can run a code cell like you formatted Markdown cells above by clicking on the cell and using the keyboard shortcut **Shift** + **Enter** or **Shift** + **Return**. Alternatively, a code cell can be executed using the **Play** button in the toolbar after selecting it. While the cell is running, you will see an asterisk in the message to the left of the cell, i.e. `In [*]:`. The asterisk will change into a number to show that execution has completed, e.g. `In [1]`. If there is output, it will show up as `Out [1]:`, with an appropriate number to match the \"In\" number."
   ]
  },
  {
   "cell_type": "code",
   "execution_count": 29,
   "metadata": {},
   "outputs": [],
   "source": [
    "## import all necessary packages and functions.\n",
    "import csv # read and write csv files\n",
    "import datetime # operations to parse dates\n",
    "from pprint import pprint # use to print data structures like dictionaries in\n",
    "import pandas as pd\n"
   ]
  },
  {
   "cell_type": "code",
   "execution_count": 30,
   "metadata": {},
   "outputs": [
    {
     "name": "stdout",
     "output_type": "stream",
     "text": [
      "\n",
      "City: NYC\n",
      "OrderedDict([('tripduration', '839'),\n",
      "             ('starttime', '1/1/2016 00:09:55'),\n",
      "             ('stoptime', '1/1/2016 00:23:54'),\n",
      "             ('start station id', '532'),\n",
      "             ('start station name', 'S 5 Pl & S 4 St'),\n",
      "             ('start station latitude', '40.710451'),\n",
      "             ('start station longitude', '-73.960876'),\n",
      "             ('end station id', '401'),\n",
      "             ('end station name', 'Allen St & Rivington St'),\n",
      "             ('end station latitude', '40.72019576'),\n",
      "             ('end station longitude', '-73.98997825'),\n",
      "             ('bikeid', '17109'),\n",
      "             ('usertype', 'Customer'),\n",
      "             ('birth year', ''),\n",
      "             ('gender', '0')])\n",
      "\n",
      "City: Chicago\n",
      "OrderedDict([('trip_id', '9080545'),\n",
      "             ('starttime', '3/31/2016 23:30'),\n",
      "             ('stoptime', '3/31/2016 23:46'),\n",
      "             ('bikeid', '2295'),\n",
      "             ('tripduration', '926'),\n",
      "             ('from_station_id', '156'),\n",
      "             ('from_station_name', 'Clark St & Wellington Ave'),\n",
      "             ('to_station_id', '166'),\n",
      "             ('to_station_name', 'Ashland Ave & Wrightwood Ave'),\n",
      "             ('usertype', 'Subscriber'),\n",
      "             ('gender', 'Male'),\n",
      "             ('birthyear', '1990')])\n",
      "\n",
      "City: Washington\n",
      "OrderedDict([('Duration (ms)', '427387'),\n",
      "             ('Start date', '3/31/2016 22:57'),\n",
      "             ('End date', '3/31/2016 23:04'),\n",
      "             ('Start station number', '31602'),\n",
      "             ('Start station', 'Park Rd & Holmead Pl NW'),\n",
      "             ('End station number', '31207'),\n",
      "             ('End station', 'Georgia Ave and Fairmont St NW'),\n",
      "             ('Bike number', 'W20842'),\n",
      "             ('Member Type', 'Registered')])\n"
     ]
    }
   ],
   "source": [
    "def print_first_point(filename):\n",
    "    \"\"\"\n",
    "    This function prints and returns the first data point (second row) from\n",
    "    a csv file that includes a header row.\n",
    "    \"\"\"\n",
    "    # print city name for reference\n",
    "    city = filename.split('-')[0].split('/')[-1]\n",
    "    print('\\nCity: {}'.format(city))\n",
    "    \n",
    "    with open(filename, 'r') as f_in:\n",
    "        ## TODO: Use the csv library to set up a DictReader object. ##\n",
    "        ## see https://docs.python.org/3/library/csv.html           ##\n",
    "        trip_reader = csv.DictReader(f_in)\n",
    "        \n",
    "        ## TODO: Use a function on the DictReader object to read the     ##\n",
    "        ## first trip from the data file and store it in a variable.     ##\n",
    "        ## see https://docs.python.org/3/library/csv.html#reader-objects ##\n",
    "        first_trip = next(trip_reader)\n",
    "        \n",
    "        ## TODO: Use the pprint library to print the first trip. ##\n",
    "        ## see https://docs.python.org/3/library/pprint.html     ##\n",
    "        pprint(first_trip)\n",
    "    # output city name and first trip for later testing\n",
    "    return (city, first_trip)\n",
    "\n",
    "# list of files for each city\n",
    "data_files = ['./data/NYC-CitiBike-2016.csv',\n",
    "              './data/Chicago-Divvy-2016.csv',\n",
    "              './data/Washington-CapitalBikeshare-2016.csv',]\n",
    "\n",
    "# print the first trip from each file, store in dictionary\n",
    "example_trips = {}\n",
    "for data_file in data_files:\n",
    "    city, first_trip = print_first_point(data_file)\n",
    "    example_trips[city] = first_trip"
   ]
  },
  {
   "cell_type": "markdown",
   "metadata": {},
   "source": [
    "If everything has been filled out correctly, you should see below the printout of each city name (which has been parsed from the data file name) that the first trip has been parsed in the form of a dictionary. When you set up a `DictReader` object, the first row of the data file is normally interpreted as column names. Every other row in the data file will use those column names as keys, as a dictionary is generated for each row.\n",
    "\n",
    "This will be useful since we can refer to quantities by an easily-understandable label instead of just a numeric index. For example, if we have a trip stored in the variable `row`, then we would rather get the trip duration from `row['duration']` instead of `row[0]`.\n",
    "\n",
    "<a id='condensing'></a>\n",
    "### Condensing the Trip Data\n",
    "\n",
    "It should also be observable from the above printout that each city provides different information. Even where the information is the same, the column names and formats are sometimes different. To make things as simple as possible when we get to the actual exploration, we should trim and clean the data. Cleaning the data makes sure that the data formats across the cities are consistent, while trimming focuses only on the parts of the data we are most interested in to make the exploration easier to work with.\n",
    "\n",
    "You will generate new data files with five values of interest for each trip: trip duration, starting month, starting hour, day of the week, and user type. Each of these may require additional wrangling depending on the city:\n",
    "\n",
    "- **Duration**: This has been given to us in seconds (New York, Chicago) or milliseconds (Washington). A more natural unit of analysis will be if all the trip durations are given in terms of minutes.\n",
    "- **Month**, **Hour**, **Day of Week**: Ridership volume is likely to change based on the season, time of day, and whether it is a weekday or weekend. Use the start time of the trip to obtain these values. The New York City data includes the seconds in their timestamps, while Washington and Chicago do not. The [`datetime`](https://docs.python.org/3/library/datetime.html) package will be very useful here to make the needed conversions.\n",
    "- **User Type**: It is possible that users who are subscribed to a bike-share system will have different patterns of use compared to users who only have temporary passes. Washington divides its users into two types: 'Registered' for users with annual, monthly, and other longer-term subscriptions, and 'Casual', for users with 24-hour, 3-day, and other short-term passes. The New York and Chicago data uses 'Subscriber' and 'Customer' for these groups, respectively. For consistency, you will convert the Washington labels to match the other two.\n",
    "\n",
    "\n",
    "**Question 3a**: Complete the helper functions in the code cells below to address each of the cleaning tasks described above."
   ]
  },
  {
   "cell_type": "code",
   "execution_count": 31,
   "metadata": {},
   "outputs": [],
   "source": [
    "def duration_in_mins(datum, city):\n",
    "    \"\"\"\n",
    "    Takes as input a dictionary containing info about a single trip (datum) and\n",
    "    its origin city (city) and returns the trip duration in units of minutes.\n",
    "    \n",
    "    Remember that Washington is in terms of milliseconds while Chicago and NYC\n",
    "    are in terms of seconds. \n",
    "    \n",
    "    HINT: The csv module reads in all of the data as strings, including numeric\n",
    "    values. You will need a function to convert the strings into an appropriate\n",
    "    numeric type when making your transformations.\n",
    "    see https://docs.python.org/3/library/functions.html\n",
    "    \"\"\"\n",
    "    \n",
    "    if city == 'NYC':\n",
    "        duration = int(datum['tripduration'])\n",
    "        \n",
    "    elif city == 'Chicago':\n",
    "        duration = int(datum['tripduration'])\n",
    "        \n",
    "    else:\n",
    "        duration = int(datum['Duration (ms)'])/1000\n",
    "    \n",
    "    return duration/60\n",
    "\n",
    "\n",
    "# Some tests to check that your code works. There should be no output if all of\n",
    "# the assertions pass. The `example_trips` dictionary was obtained from when\n",
    "# you printed the first trip from each of the original data files.\n",
    "tests = {'NYC': 13.9833,\n",
    "         'Chicago': 15.4333,\n",
    "         'Washington': 7.1231}\n",
    "\n",
    "for city in tests:\n",
    "    assert abs(duration_in_mins(example_trips[city], city) - tests[city]) < .001"
   ]
  },
  {
   "cell_type": "code",
   "execution_count": 32,
   "metadata": {},
   "outputs": [],
   "source": [
    "import datetime\n",
    "def date_to_week(date):\n",
    "    weekday_dictionary = {0: \"Monday\",\n",
    "                          1: \"Tuesday\",\n",
    "                          2: \"Wednesday\",\n",
    "                          3: \"Thursday\",\n",
    "                          4: \"Friday\",\n",
    "                          5: \"Saturday\",\n",
    "                          6: \"Sunday\"}\n",
    "    month, day, year = date.split('/')\n",
    "    week_day = datetime.datetime.weekday(datetime.date(int(year), int(month), int(day)))\n",
    "    if week_day == 0:\n",
    "        weekday = 'Monday'\n",
    "    elif week_day == 1:\n",
    "        weekday = 'Tuesday'\n",
    "    elif week_day == 2:\n",
    "        weekday = 'Wednesday'\n",
    "    elif week_day == 3:\n",
    "        weekday = 'Thursday'\n",
    "    elif week_day == 4:\n",
    "        weekday = 'Friday'\n",
    "    elif week_day == 5:\n",
    "        weekday = 'Saturday'\n",
    "    elif week_day == 6:\n",
    "        weekday = 'Sunday'    \n",
    "        \n",
    "    return weekday\n",
    "\n",
    "def time_of_trip(datum, city):\n",
    "    \"\"\"\n",
    "    Takes as input a dictionary containing info about a single trip (datum) and\n",
    "    its origin city (city) and returns the month, hour, and day of the week in\n",
    "    which the trip was made.\n",
    "    \n",
    "    Remember that NYC includes seconds, while Washington and Chicago do not.\n",
    "    \n",
    "    HINT: You should use the datetime module to parse the original date\n",
    "    strings into a format that is useful for extracting the desired information.\n",
    "    see https://docs.python.org/3/library/datetime.html#strftime-and-strptime-behavior\n",
    "    \"\"\"\n",
    "    \n",
    "    if city == 'NYC':\n",
    "        month =  datum['starttime'].split('/')[0]\n",
    "        hour = datum['starttime'].split()[1].split(':')[0]\n",
    "        day_of_week = date_to_week(datum['starttime'].split()[0])\n",
    "        \n",
    "    elif city == 'Chicago':\n",
    "        month =  datum['starttime'].split('/')[0]\n",
    "        hour = datum['starttime'].split()[1].split(':')[0]\n",
    "        day_of_week = date_to_week(datum['starttime'].split()[0])\n",
    "        \n",
    "    else:\n",
    "        month =  datum['Start date'].split('/')[0]\n",
    "        hour = datum['Start date'].split()[1].split(':')[0]\n",
    "        day_of_week = date_to_week(datum['Start date'].split()[0])\n",
    "    \n",
    "    return (int(month), int(hour), day_of_week)\n",
    "\n",
    "\n",
    "# Some tests to check that your code works. There should be no output if all of\n",
    "# the assertions pass. The `example_trips` dictionary was obtained from when\n",
    "# you printed the first trip from each of the original data files.\n",
    "tests = {'NYC': (1, 0, 'Friday'),\n",
    "         'Chicago': (3, 23, 'Thursday'),\n",
    "         'Washington': (3, 22, 'Thursday')}\n",
    "    \n",
    "\n",
    "for city in tests:\n",
    "    assert time_of_trip(example_trips[city], city) == tests[city]"
   ]
  },
  {
   "cell_type": "code",
   "execution_count": 33,
   "metadata": {},
   "outputs": [],
   "source": [
    "def correct_member_type(user_type):\n",
    "\n",
    "    user_type_dictionary = {\"Registered\":\"Subscriber\",\n",
    "                            \"Casual\":\"Customer\"}\n",
    "    \n",
    "    # Converting member type\n",
    "    new_user_type = user_type_dictionary[user_type]\n",
    "        \n",
    "    return new_user_type\n",
    "\n",
    "\n",
    "def type_of_user(datum, city):\n",
    "\n",
    "    if city == 'NYC': user_type = datum['usertype']\n",
    "    elif city == 'Chicago': user_type = datum['usertype']\n",
    "    else: user_type = correct_member_type(datum['Member Type'])\n",
    "     \n",
    "        \n",
    "    \n",
    "    return user_type\n",
    "# Some tests to check that your code works. There should be no output if all of\n",
    "# the assertions pass. The `example_trips` dictionary was obtained from when\n",
    "# you printed the first trip from each of the original data files.\n",
    "tests = {'NYC': 'Customer',\n",
    "         'Chicago': 'Subscriber',\n",
    "         'Washington': 'Subscriber'}\n",
    "\n",
    "for city in tests:\n",
    "    assert type_of_user(example_trips[city], city) == tests[city]"
   ]
  },
  {
   "cell_type": "markdown",
   "metadata": {},
   "source": [
    "**Question 3b**: Now, use the helper functions you wrote above to create a condensed data file for each city consisting only of the data fields indicated above. In the `/examples/` folder, you will see an example datafile from the [Bay Area Bike Share](http://www.bayareabikeshare.com/open-data) before and after conversion. Make sure that your output is formatted to be consistent with the example file."
   ]
  },
  {
   "cell_type": "code",
   "execution_count": 34,
   "metadata": {},
   "outputs": [],
   "source": [
    "\n",
    "def condense_data(in_file, out_file, city):\n",
    "\n",
    "    \n",
    "    with open(out_file, 'w') as f_out, open(in_file, 'r') as f_in:\n",
    "\n",
    "        out_colnames = ['duration', 'month', 'hour', 'day_of_week', 'user_type']        \n",
    "        trip_writer = csv.DictWriter(f_out, fieldnames = out_colnames)\n",
    "        trip_writer.writeheader()\n",
    "        trip_reader = csv.DictReader(f_in)\n",
    "\n",
    "        first_trip = next(trip_reader)\n",
    "        \n",
    "\n",
    "        \n",
    "        # Collect data from and process each row\n",
    "        for row in trip_reader:\n",
    "\n",
    "            new_point = {}\n",
    "            month, hour, day_of_week = time_of_trip(row, city)\n",
    "            new_point[out_colnames[0]] = duration_in_mins(row, city)\n",
    "            new_point[out_colnames[1]] = month\n",
    "            new_point[out_colnames[2]] = hour\n",
    "            new_point[out_colnames[3]] = day_of_week\n",
    "            new_point[out_colnames[4]] = type_of_user(row, city)\n",
    "            \n",
    "            # Write row to new csv file\n",
    "            trip_writer.writerow(new_point)\n",
    "            "
   ]
  },
  {
   "cell_type": "code",
   "execution_count": 35,
   "metadata": {},
   "outputs": [
    {
     "name": "stdout",
     "output_type": "stream",
     "text": [
      "\n",
      "City: Washington\n",
      "OrderedDict([('duration', '9.792516666666668'),\n",
      "             ('month', '3'),\n",
      "             ('hour', '22'),\n",
      "             ('day_of_week', 'Thursday'),\n",
      "             ('user_type', 'Subscriber')])\n",
      "\n",
      "City: Chicago\n",
      "OrderedDict([('duration', '3.3'),\n",
      "             ('month', '3'),\n",
      "             ('hour', '22'),\n",
      "             ('day_of_week', 'Thursday'),\n",
      "             ('user_type', 'Subscriber')])\n",
      "\n",
      "City: NYC\n",
      "OrderedDict([('duration', '11.433333333333334'),\n",
      "             ('month', '1'),\n",
      "             ('hour', '0'),\n",
      "             ('day_of_week', 'Friday'),\n",
      "             ('user_type', 'Subscriber')])\n"
     ]
    }
   ],
   "source": [
    "# Run this cell to check your work\n",
    "city_info = {'Washington': {'in_file': './data/Washington-CapitalBikeshare-2016.csv',\n",
    "                            'out_file': './data/Washington-2016-Summary.csv'},\n",
    "             'Chicago': {'in_file': './data/Chicago-Divvy-2016.csv',\n",
    "                         'out_file': './data/Chicago-2016-Summary.csv'},\n",
    "             'NYC': {'in_file': './data/NYC-CitiBike-2016.csv',\n",
    "                     'out_file': './data/NYC-2016-Summary.csv'}}\n",
    "\n",
    "for city, filenames in city_info.items():\n",
    "    condense_data(filenames['in_file'], filenames['out_file'], city)\n",
    "    print_first_point(filenames['out_file'])"
   ]
  },
  {
   "cell_type": "markdown",
   "metadata": {},
   "source": [
    "> **Tip**: If you save a jupyter Notebook, the output from running code blocks will also be saved. However, the state of your workspace will be reset once a new session is started. Make sure that you run all of the necessary code blocks from your previous session to reestablish variables and functions before picking up where you last left off.\n",
    "\n",
    "<a id='eda'></a>\n",
    "## Exploratory Data Analysis\n",
    "\n",
    "Now that you have the data collected and wrangled, you're ready to start exploring the data. In this section you will write some code to compute descriptive statistics from the data. You will also be introduced to the `matplotlib` library to create some basic histograms of the data.\n",
    "\n",
    "<a id='statistics'></a>\n",
    "### Statistics\n",
    "\n",
    "First, let's compute some basic counts. The first cell below contains a function that uses the csv module to iterate through a provided data file, returning the number of trips made by subscribers and customers. The second cell runs this function on the example Bay Area data in the `/examples/` folder. Modify the cells to answer the question below.\n",
    "\n",
    "**Question 4a**: Which city has the highest number of trips? Which city has the highest proportion of trips made by subscribers? Which city has the highest proportion of trips made by short-term customers?\n",
    "\n",
    "**Answer**: NYC has the highest number of trips and highest number of proportion of trips made by subscribers,but when it comes to consumers,chicago has the  highest consumers."
   ]
  },
  {
   "cell_type": "code",
   "execution_count": 36,
   "metadata": {},
   "outputs": [],
   "source": [
    "def number_of_trips(filename):\n",
    "\n",
    "    df = pd.read_csv(filename)\n",
    "    \n",
    "    # initialize count variables\n",
    "    n_subscribers = len(df[df['user_type']=='Subscriber'])\n",
    "    n_customers = len(df[df['user_type']=='Customer'])\n",
    "    \n",
    "    # compute total number of rides\n",
    "    n_total = n_subscribers + n_customers\n",
    "\n",
    "    # return tallies as a tuple\n",
    "    return(n_subscribers, n_customers, n_total)"
   ]
  },
  {
   "cell_type": "code",
   "execution_count": 37,
   "metadata": {},
   "outputs": [
    {
     "name": "stdout",
     "output_type": "stream",
     "text": [
      "./data/NYC-2016-Summary.csv : \n",
      "\n",
      "n_subscribers:  245896\n",
      "n_customers:  30184\n",
      "n_total:  276080\n",
      "proportion subscribers:  89.06693711967546\n",
      "proportion customers:  10.933062880324544\n",
      "\n",
      "\n",
      "./data/Chicago-2016-Summary.csv : \n",
      "\n",
      "n_subscribers:  54981\n",
      "n_customers:  17149\n",
      "n_total:  72130\n",
      "proportion subscribers:  76.22487175932345\n",
      "proportion customers:  23.77512824067656\n",
      "\n",
      "\n",
      "./data/Washington-2016-Summary.csv : \n",
      "\n",
      "n_subscribers:  51752\n",
      "n_customers:  14573\n",
      "n_total:  66325\n",
      "proportion subscribers:  78.0278929513758\n",
      "proportion customers:  21.9721070486242\n",
      "\n",
      "\n"
     ]
    }
   ],
   "source": [
    "## Modify this and the previous cell to answer Question 4a. Remember to run ##\n",
    "## the function on the cleaned data files you created from Question 3.      ##\n",
    "\n",
    "\n",
    "filepaths = ['./data/NYC-2016-Summary.csv', \n",
    "             './data/Chicago-2016-Summary.csv', \n",
    "             './data/Washington-2016-Summary.csv']\n",
    "\n",
    "\n",
    "for path in filepaths:\n",
    "    print(path,\": \\n\")\n",
    "    n_subscribers, n_customers, n_total = number_of_trips(path)\n",
    "    print(\"n_subscribers: \", n_subscribers)\n",
    "    print(\"n_customers: \", n_customers)\n",
    "    print(\"n_total: \", n_total)\n",
    "    print(\"proportion subscribers: \", (n_subscribers/n_total)*100)\n",
    "    print(\"proportion customers: \", (n_customers/n_total)*100)\n",
    "    print(\"\\n\")"
   ]
  },
  {
   "cell_type": "markdown",
   "metadata": {},
   "source": [
    "> **Tip**: In order to add additional cells to a notebook, you can use the \"Insert Cell Above\" and \"Insert Cell Below\" options from the menu bar above. There is also an icon in the toolbar for adding new cells, with additional icons for moving the cells up and down the document. By default, new cells are of the code type; you can also specify the cell type (e.g. Code or Markdown) of selected cells from the Cell menu or the dropdown in the toolbar.\n",
    "\n",
    "Now, you will write your own code to continue investigating properties of the data.\n",
    "\n",
    "**Question 4b**: Bike-share systems are designed for riders to take short trips. Most of the time, users are allowed to take trips of 30 minutes or less with no additional charges, with overage charges made for trips of longer than that duration. What is the average trip length for each city? What proportion of rides made in each city are longer than 30 minutes?\n",
    "\n",
    "**Answer**: For NYC, 34% of customers exceed 30 min trip duration.for the rest of cities, it is well around 80%.The avreage trip length as follows, NYC and chicago with around 15 min and washington with 19 min. "
   ]
  },
  {
   "cell_type": "code",
   "execution_count": 38,
   "metadata": {
    "scrolled": true
   },
   "outputs": [
    {
     "name": "stdout",
     "output_type": "stream",
     "text": [
      "(0.3445802206500767, 0.6496314253203384)\n",
      "15.81259299802294\n",
      "(0.8043261231281198, 0.1956738768718802)\n",
      "16.563629368787335\n",
      "(0.7907914869940187, 0.20920851300598137)\n",
      "18.93287355913721\n"
     ]
    }
   ],
   "source": [
    "## Use this and additional cells to answer Question 4b.                 ##\n",
    "##                                                                      ##\n",
    "## HINT: The csv module reads in all of the data as strings, including  ##\n",
    "## numeric values. You will need a function to convert the strings      ##\n",
    "## into an appropriate numeric type before you aggregate data.          ##\n",
    "## TIP: For the Bay Area example, the average trip length is 14 minutes ##\n",
    "## and 3.5% of trips are longer than 30 minutes.                        ##\n",
    "\n",
    "def average_trip_length(filename):\n",
    "    trip_durations = []\n",
    "    sum = 0\n",
    "    with open(filename, newline='') as csvfile:\n",
    "        reader = csv.DictReader(csvfile)\n",
    "        if filename == './data/Washington-CapitalBikeshare-2016.csv':\n",
    "            for row in reader:\n",
    "                trip_durations.append((row['Duration (ms)']))\n",
    "            for item in range(len(trip_durations)):\n",
    "                trip_durations[item] = (int(trip_durations[item])/int(60000))\n",
    "                sum += trip_durations[item]\n",
    "        else:\n",
    "            for row in reader:\n",
    "                trip_durations.append((row['tripduration']))\n",
    "            for item in range(len(trip_durations)):\n",
    "                trip_durations[item] = (int(trip_durations[item])/int(60))\n",
    "                sum += trip_durations[item]    \n",
    "           \n",
    "    average = sum/len(trip_durations)\n",
    "    return average\n",
    "  \n",
    "\n",
    "def proportion_overtime(filename):\n",
    "    df = pd.read_csv(filename)\n",
    "    \n",
    "    df2 = df[df['duration']>30]\n",
    "    \n",
    "    p_customer = len(df2[df2['user_type'] == 'Customer'])/len(df2)\n",
    "    p_subscriber = len(df2[df2['user_type'] == 'Subscriber'])/len(df2)\n",
    "\n",
    "    return p_customer, p_subscriber\n",
    "\n",
    "print(proportion_overtime('./data/NYC-2016-Summary.csv'))\n",
    "print(average_trip_length('./data/NYC-CitiBike-2016.csv'))\n",
    "\n",
    "print(proportion_overtime('./data/Chicago-2016-Summary.csv'))\n",
    "print(average_trip_length('./data/Chicago-Divvy-2016.csv'))\n",
    "\n",
    "print(proportion_overtime('./data/Washington-2016-Summary.csv'))\n",
    "print(average_trip_length('./data/Washington-CapitalBikeshare-2016.csv'))\n"
   ]
  },
  {
   "cell_type": "markdown",
   "metadata": {},
   "source": [
    "**Question 4c**: Dig deeper into the question of trip duration based on ridership. Choose one city. Within that city, which type of user takes longer rides on average: Subscribers or Customers?\n",
    "\n",
    "**Answer**: In Washington, Suprisingly Customers takes longer rides on average."
   ]
  },
  {
   "cell_type": "code",
   "execution_count": 39,
   "metadata": {},
   "outputs": [
    {
     "name": "stdout",
     "output_type": "stream",
     "text": [
      "./data/NYC-2016-Summary.csv : \n",
      "\n",
      "Proportion Customers:  15.8125996067\n",
      "Proportion Subscribers:  0.07302463538260892\n",
      "\n",
      "\n",
      "./data/Chicago-2016-Summary.csv : \n",
      "\n",
      "Proportion Customers:  16.563645039\n",
      "Proportion Subscribers:  0.08332178011922917\n",
      "\n",
      "\n",
      "./data/Washington-2016-Summary.csv : \n",
      "\n",
      "Proportion Customers:  18.933051618\n",
      "Proportion Subscribers:  0.10839050131926121\n",
      "\n",
      "\n"
     ]
    }
   ],
   "source": [
    "## Use this and additional cells to answer Question 4c. If you have    ##\n",
    "## not done so yet, consider revising some of your previous code to    ##\n",
    "## make use of functions for reusability.                              ##\n",
    "##                                                                     ##\n",
    "## TIP: For the Bay Area example data, you should find the average     ##\n",
    "## Subscriber trip duration to be 9.5 minutes and the average Customer ##\n",
    "## trip duration to be 54.6 minutes. Do the other cities have this     ##\n",
    "## level of difference?                                                ##\n",
    "import numpy as np\n",
    "\n",
    "filepaths = ['./data/NYC-2016-Summary.csv', \n",
    "             './data/Chicago-2016-Summary.csv', \n",
    "             './data/Washington-2016-Summary.csv']\n",
    "\n",
    "def proportion_overtime(path):\n",
    "    df = pd.read_csv(path)\n",
    "    average = np.average(df['duration'])\n",
    "    proportion = len(df[df['duration']>30])/len(df)\n",
    "    return average, proportion\n",
    "\n",
    "# Display the data created by porportion_overtime function\n",
    "for path in filepaths: \n",
    "    #if path != filepaths[2]: continue # Remove this line to see proportions for each city\n",
    "    p_customer, p_subscriber = proportion_overtime(path)\n",
    "    print(path,\": \\n\")\n",
    "    print(\"Proportion Customers: \", p_customer)\n",
    "    print(\"Proportion Subscribers: \", p_subscriber)\n",
    "    print(\"\\n\")"
   ]
  },
  {
   "cell_type": "markdown",
   "metadata": {},
   "source": [
    "<a id='visualizations'></a>\n",
    "### Visualizations\n",
    "\n",
    "The last set of values that you computed should have pulled up an interesting result. While the mean trip time for Subscribers is well under 30 minutes, the mean trip time for Customers is actually _above_ 30 minutes! It will be interesting for us to look at how the trip times are distributed. In order to do this, a new library will be introduced here, `matplotlib`. Run the cell below to load the library and to generate an example plot."
   ]
  },
  {
   "cell_type": "code",
   "execution_count": 40,
   "metadata": {},
   "outputs": [
    {
     "data": {
      "image/png": "[encoded data removed]",
      "text/plain": [
       "<matplotlib.figure.Figure at 0x7f3bee4f5748>"
      ]
     },
     "metadata": {},
     "output_type": "display_data"
    }
   ],
   "source": [
    "# load library\n",
    "import matplotlib.pyplot as plt\n",
    "\n",
    "# this is a 'magic word' that allows for plots to be displayed\n",
    "# inline with the notebook. If you want to know more, see:\n",
    "# http://ipython.readthedocs.io/en/stable/interactive/magics.html\n",
    "%matplotlib inline \n",
    "\n",
    "# example histogram, data taken from bay area sample\n",
    "data = [ 7.65,  8.92,  7.42,  5.50, 16.17,  4.20,  8.98,  9.62, 11.48, 14.33,\n",
    "        19.02, 21.53,  3.90,  7.97,  2.62,  2.67,  3.08, 14.40, 12.90,  7.83,\n",
    "        25.12,  8.30,  4.93, 12.43, 10.60,  6.17, 10.88,  4.78, 15.15,  3.53,\n",
    "         9.43, 13.32, 11.72,  9.85,  5.22, 15.10,  3.95,  3.17,  8.78,  1.88,\n",
    "         4.55, 12.68, 12.38,  9.78,  7.63,  6.45, 17.38, 11.90, 11.52,  8.63,]\n",
    "plt.hist(data)\n",
    "plt.title('Distribution of Trip Durations')\n",
    "plt.xlabel('Duration (m)')\n",
    "plt.show()"
   ]
  },
  {
   "cell_type": "markdown",
   "metadata": {},
   "source": [
    "In the above cell, we collected fifty trip times in a list, and passed this list as the first argument to the `.hist()` function. This function performs the computations and creates plotting objects for generating a histogram, but the plot is actually not rendered until the `.show()` function is executed. The `.title()` and `.xlabel()` functions provide some labeling for plot context.\n",
    "\n",
    "You will now use these functions to create a histogram of the trip times for the city you selected in question 4c. Don't separate the Subscribers and Customers for now: just collect all of the trip times and plot them."
   ]
  },
  {
   "cell_type": "code",
   "execution_count": 41,
   "metadata": {},
   "outputs": [
    {
     "data": {
      "image/png": "[encoded data removed]",
      "text/plain": [
       "<matplotlib.figure.Figure at 0x7f3bee0902b0>"
      ]
     },
     "metadata": {},
     "output_type": "display_data"
    }
   ],
   "source": [
    "washington_trip_durations = []\n",
    "with open('./data/Washington-CapitalBikeshare-2016.csv', newline='') as csvfile:\n",
    "    reader = csv.DictReader(csvfile)\n",
    "    \n",
    "    for row in reader:\n",
    "        washington_trip_durations.append((row['Duration (ms)']))\n",
    "        \n",
    "\n",
    "\n",
    "    for item in range(len(washington_trip_durations)):\n",
    "        washington_trip_durations[item] = (int(washington_trip_durations[item])/int(60000))\n",
    "        \n",
    "#print(washington_trip_durations) \n",
    "plt.hist(washington_trip_durations)\n",
    "plt.title('Distribution of Trip Durations')\n",
    "plt.xlabel('Duration (m)')\n",
    "plt.show()"
   ]
  },
  {
   "cell_type": "markdown",
   "metadata": {},
   "source": [
    "If you followed the use of the `.hist()` and `.show()` functions exactly like in the example, you're probably looking at a plot that's completely unexpected. The plot consists of one extremely tall bar on the left, maybe a very short second bar, and a whole lot of empty space in the center and right. Take a look at the duration values on the x-axis. This suggests that there are some highly infrequent outliers in the data. Instead of reprocessing the data, you will use additional parameters with the `.hist()` function to limit the range of data that is plotted. Documentation for the function can be found [[here]](https://matplotlib.org/devdocs/api/_as_gen/matplotlib.pyplot.hist.html#matplotlib.pyplot.hist).\n",
    "\n",
    "**Question 5**: Use the parameters of the `.hist()` function to plot the distribution of trip times for the Subscribers in your selected city. Do the same thing for only the Customers. Add limits to the plots so that only trips of duration less than 75 minutes are plotted. As a bonus, set the plots up so that bars are in five-minute wide intervals. For each group, where is the peak of each distribution? How would you describe the shape of each distribution?\n",
    "\n",
    "**Answer**: The graph of Subscribers is large compared to consumers which peaked at around 10 min interval while consumer  peaked at around 15 min interval period. the skewness of the subscribers is positive and has distibution of non zero skewness."
   ]
  },
  {
   "cell_type": "code",
   "execution_count": 42,
   "metadata": {},
   "outputs": [
    {
     "data": {
      "image/png": "[encoded data removed]",
      "text/plain": [
       "<matplotlib.figure.Figure at 0x7f3bee090a20>"
      ]
     },
     "metadata": {},
     "output_type": "display_data"
    }
   ],
   "source": [
    "with open('./data/Washington-CapitalBikeshare-2016.csv', newline='') as csvfile:\n",
    "    reader = csv.DictReader(csvfile)\n",
    "    casual_durations = []\n",
    "    subscribe_durations = []\n",
    "    duration75less_casual = []\n",
    "    duration75less_subs = []\n",
    "    \n",
    "    for row in reader:\n",
    "        if 'Casual' in row['Member Type']:\n",
    "            casual_durations.append(row['Duration (ms)'])\n",
    "            #break\n",
    "        if 'Registered' in row['Member Type']:\n",
    "            subscribe_durations.append(row['Duration (ms)'])\n",
    "            \n",
    "    for item in range(len(casual_durations)):\n",
    "        casual_durations[item] = (int(casual_durations[item])/int(60000))\n",
    "    for item in range(len(subscribe_durations)):\n",
    "        subscribe_durations[item] = (int(subscribe_durations[item])/int(60000))    \n",
    "        \n",
    "    for d in range(len(casual_durations)):\n",
    "        if casual_durations[d] < 75:\n",
    "            duration75less_casual.append(casual_durations[d])\n",
    "    for d in range(len(subscribe_durations)):\n",
    "        if subscribe_durations[d] < 75:\n",
    "            duration75less_subs.append(subscribe_durations[d])        \n",
    "            \n",
    "            \n",
    "        \n",
    "   # print(duration75less)\n",
    "b = [ 0,  5, 10, 15, 20, 25, 30, 35, 40, 45, 50, 55, 60, 65, 70, 75]\n",
    "plt.hist([duration75less_casual, duration75less_subs], bins=b, color=['green','orange'],label=['Customer','Subscriber'])    \n",
    "#plt.hist(casual_durations)\n",
    "plt.title('Distribution of Trip Durations of customers')\n",
    "plt.xlabel('Duration (m)')\n",
    "plt.show()    "
   ]
  },
  {
   "cell_type": "markdown",
   "metadata": {
    "collapsed": true
   },
   "source": [
    "<a id='eda_continued'></a>\n",
    "## Performing Your Own Analysis\n",
    "\n",
    "So far, you've performed an initial exploration into the data available. You have compared the relative volume of trips made between three U.S. cities and the ratio of trips made by Subscribers and Customers. For one of these cities, you have investigated differences between Subscribers and Customers in terms of how long a typical trip lasts. Now it is your turn to continue the exploration in a direction that you choose. Here are a few suggestions for questions to explore:\n",
    "\n",
    "- How does ridership differ by month or season? Which month / season has the highest ridership? Does the ratio of Subscriber trips to Customer trips change depending on the month or season?\n",
    "- Is the pattern of ridership different on the weekends versus weekdays? On what days are Subscribers most likely to use the system? What about Customers? Does the average duration of rides change depending on the day of the week?\n",
    "- During what time of day is the system used the most? Is there a difference in usage patterns for Subscribers and Customers?\n",
    "\n",
    "If any of the questions you posed in your answer to question 1 align with the bullet points above, this is a good opportunity to investigate one of them. As part of your investigation, you will need to create a visualization. If you want to create something other than a histogram, then you might want to consult the [Pyplot documentation](https://matplotlib.org/devdocs/api/pyplot_summary.html). In particular, if you are plotting values across a categorical variable (e.g. city, user type), a bar chart will be useful. The [documentation page for `.bar()`](https://matplotlib.org/devdocs/api/_as_gen/matplotlib.pyplot.bar.html#matplotlib.pyplot.bar) includes links at the bottom of the page with examples for you to build off of for your own use.\n",
    "\n",
    "**Question 6**: Continue the investigation by exploring another question that could be answered by the data available. Document the question you want to explore below. Your investigation should involve at least two variables and should compare at least two groups. You should also use at least one visualization as part of your explorations.\n",
    "\n",
    "**Answer**: Q. In which month does the highest subscriber to month ratio occur and in which city does it occur? What is the      ratio of other cities when compared to the highest?\n",
    "\n",
    "            A. Washington has the highest ratio in around 3rd month, that is March. Chicago is lower to Washington with highest around March. The lowest subscriber ratio is rated to be NYC."
   ]
  },
  {
   "cell_type": "code",
   "execution_count": 43,
   "metadata": {},
   "outputs": [
    {
     "data": {
      "image/png": "[encoded data removed]",
      "text/plain": [
       "<matplotlib.figure.Figure at 0x7f3bedf80470>"
      ]
     },
     "metadata": {},
     "output_type": "display_data"
    }
   ],
   "source": [
    "## Use this and additional cells to continue to explore the dataset. ##\n",
    "## Once you have performed your exploration, document your findings  ##\n",
    "## in the Markdown cell above.                                       ##\n",
    "ratio_washington = []\n",
    "ratio_NYC = []\n",
    "ratio_chicago = []\n",
    "def calculate_subscriber_ratio(path):\n",
    "    df = pd.read_csv(path)\n",
    "\n",
    "    dict_for_df = {'month': [],\n",
    "                   'sub_cust_ratio': []}\n",
    "    for month in range(12):\n",
    "        month+=1\n",
    "        df2 = df[df['month']==month]\n",
    "        customers_Month = len(df2[df2['user_type']=='Customer'])\n",
    "        subscribers_Month = len(df2[df2['user_type']=='Subscriber'])\n",
    "        dict_for_df['month'].append(month)\n",
    "        dict_for_df['sub_cust_ratio'].append(subscribers_Month/customers_Month)        \n",
    "    return dict_for_df\n",
    "ratio_chicago = (calculate_subscriber_ratio('./data/Chicago-2016-Summary.csv'))\n",
    "ratio_NYC = (calculate_subscriber_ratio('./data/NYC-2016-Summary.csv'))\n",
    "ratio_washington = (calculate_subscriber_ratio('./data/Washington-2016-Summary.csv'))\n",
    "\n",
    "b = [ 1,2,3,4,5,6,7,8,9,10,11,12]\n",
    "plt.hist([ratio_washington['sub_cust_ratio'], ratio_NYC['sub_cust_ratio'], ratio_chicago['sub_cust_ratio']], bins=b, color=['green', 'blue', 'orange'])    \n",
    "plt.title('Subscriber ratio of washington and NYC')\n",
    "plt.xlabel('Months')\n",
    "plt.show()   \n"
   ]
  },
  {
   "cell_type": "markdown",
   "metadata": {},
   "source": [
    "<a id='conclusions'></a>\n",
    "## Conclusions\n",
    "\n",
    "Congratulations on completing the project! This is only a sampling of the data analysis process: from generating questions, wrangling the data, and to exploring the data. Normally, at this point in the data analysis process, you might want to draw conclusions about the data by performing a statistical test or fitting the data to a model for making predictions. There are also a lot of potential analyses that could be performed on the data which are not possible with only the data provided. For example, detailed location data has not been investigated. Where are the most commonly used docks? What are the most common routes? As another example, weather has potential to have a large impact on daily ridership. How much is ridership impacted when there is rain or snow? Are subscribers or customers affected more by changes in weather?\n",
    "\n",
    "**Question 7**: Putting the bike share data aside, think of a topic or field of interest where you would like to be able to apply the techniques of data science. What would you like to be able to learn from your chosen subject?\n",
    "\n",
    "**Answer**: By Collecting and analysing data of the online users, we can better understand the intrests of the user and provide with better relavent advertisements which will inturn increase revenue and satisfaction of user.  \n",
    "\n",
    "> **Tip**: If we want to share the results of our analysis with others, we aren't limited to giving them a copy of the jupyter Notebook (.ipynb) file. We can also export the Notebook output in a form that can be opened even for those without Python installed. From the **File** menu in the upper left, go to the **Download as** submenu. You can then choose a different format that can be viewed more generally, such as HTML (.html) or\n",
    "PDF (.pdf). You may need additional packages or software to perform these exports.\n",
    "\n",
    "> If you are working on this project via the Project Notebook page in the classroom, you can also submit this project directly from the workspace. **Before you do that**, you should save an HTML copy of the completed project to the workspace by running the code cell below. If it worked correctly, the output code should be a 0, and if you click on the jupyter icon in the upper left, you should see your .html document in the workspace directory. Alternatively, you can download the .html copy of your report following the steps in the previous paragraph, then _upload_ the report to the directory (by clicking the jupyter icon).\n",
    "\n",
    "> Either way, once you've gotten the .html report in your workspace, you can complete your submission by clicking on the \"Submit Project\" button to the lower-right hand side of the workspace."
   ]
  },
  {
   "cell_type": "code",
   "execution_count": 44,
   "metadata": {},
   "outputs": [
    {
     "data": {
      "text/plain": [
       "0"
      ]
     },
     "execution_count": 44,
     "metadata": {},
     "output_type": "execute_result"
    }
   ],
   "source": [
    "from subprocess import call\n",
    "call(['python', '-m', 'nbconvert', 'Bike_Share_Analysis.ipynb'])"
   ]
  },
  {
   "cell_type": "code",
   "execution_count": null,
   "metadata": {},
   "outputs": [],
   "source": []
  }
 ],
 "metadata": {
  "anaconda-cloud": {},
  "kernelspec": {
   "display_name": "Python 3",
   "language": "python",
   "name": "python3"
  },
  "language_info": {
   "codemirror_mode": {
    "name": "ipython",
    "version": 3
   },
   "file_extension": ".py",
   "mimetype": "text/x-python",
   "name": "python",
   "nbconvert_exporter": "python",
   "pygments_lexer": "ipython3",
   "version": "3.6.3"
  }
 },
 "nbformat": 4,
 "nbformat_minor": 1
}
